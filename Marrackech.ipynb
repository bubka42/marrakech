{
  "nbformat": 4,
  "nbformat_minor": 0,
  "metadata": {
    "colab": {
      "name": "Marrackech.ipynb",
      "provenance": [],
      "authorship_tag": "ABX9TyNMsPGIwUnkrx6R8xaqMrVW",
      "include_colab_link": true
    },
    "kernelspec": {
      "name": "python3",
      "display_name": "Python 3"
    },
    "language_info": {
      "name": "python"
    }
  },
  "cells": [
    {
      "cell_type": "markdown",
      "metadata": {
        "id": "view-in-github",
        "colab_type": "text"
      },
      "source": [
        "<a href=\"https://colab.research.google.com/github/bubka42/marrakech/blob/main/Marrackech.ipynb\" target=\"_parent\"><img src=\"https://colab.research.google.com/assets/colab-badge.svg\" alt=\"Open In Colab\"/></a>"
      ]
    },
    {
      "cell_type": "code",
      "metadata": {
        "id": "4ewiyBHa9IXP"
      },
      "source": [
        "import matplotlib.pyplot as plt\n",
        "import numpy as np\n",
        "import matplotlib.path as mpath\n",
        "import matplotlib.lines as mlines\n",
        "import matplotlib.patches as mpatches\n",
        "from matplotlib.collections import PatchCollection\n",
        "from typing import List, Tuple, Dict, Set, TypeVar\n",
        "from collections import namedtuple\n",
        "from enum import Enum\n",
        "import time"
      ],
      "execution_count": 36,
      "outputs": []
    },
    {
      "cell_type": "code",
      "metadata": {
        "colab": {
          "base_uri": "https://localhost:8080/",
          "height": 121
        },
        "id": "9ZUZ-Djh9PZE",
        "outputId": "6e049b9e-bbe5-4c9d-da8b-5c6d1c998e97"
      },
      "source": [
        "# test\n",
        "a = np.array([range(7) for i in range(7)])\n",
        "print(a[4,5])\n",
        "type(a)\n",
        "Pp = namedtuple('Content', ['colour', 'rug'])\n",
        "type(Pp)\n",
        "a = (0, 1)\n",
        "b = (2, 3)\n",
        "c = (a, b)\n",
        "w, x, y, z = *a, *b\n",
        "print(w, x, y, z)\n",
        "Tt = Tuple[int, int]\n",
        "ll = [[(col, row) for row in range(3)] for col in range(5)]\n",
        "print(ll[3][2])\n",
        "print(tuple(map(sum, zip(a, b))))\n",
        "ss = {1, 2, 3}\n",
        "ss.remove(2)\n",
        "print(ss)\n",
        "grid = np.mgrid[0:6:7j, 0:6:7j].reshape(2, -1).T\n",
        "#print(grid)\n",
        "#rect = plt.Rectangle([0, 0] - [1, 1], 1, 1, 0, facecolor='white', edgecolor='black')\n",
        "plt.draw()\n",
        "plt.show()"
      ],
      "execution_count": 2,
      "outputs": [
        {
          "output_type": "stream",
          "text": [
            "5\n",
            "0 1 2 3\n",
            "(3, 2)\n",
            "(2, 4)\n",
            "{1, 3}\n"
          ],
          "name": "stdout"
        },
        {
          "output_type": "display_data",
          "data": {
            "text/plain": [
              "<Figure size 432x288 with 0 Axes>"
            ]
          },
          "metadata": {
            "tags": []
          }
        }
      ]
    },
    {
      "cell_type": "code",
      "metadata": {
        "id": "VkvRokfp9Yub"
      },
      "source": [
        "# custom types\n",
        "\n",
        "class Colour(Enum):\n",
        "    NONE = 0\n",
        "    RED = 1\n",
        "    BLUE = 2\n",
        "    YELLOW = 3\n",
        "    GREEN = 4\n",
        "\n",
        "class Direction(Enum):\n",
        "    RIGHT = 3\n",
        "    DOWN = 6\n",
        "    LEFT = 9\n",
        "    UP = 12\n",
        "\n",
        "Cell = Tuple[int, int]\n",
        "Rug = Tuple[Cell, Cell]\n",
        "\n",
        "Assam: namedtuple = namedtuple('Assam', ['cell', 'direction'])\n",
        "\n",
        "T: TypeVar = TypeVar('T')\n",
        "Grid = List[List[T]]\n",
        "CellState: namedtuple = namedtuple('CellState', ['colour', 'rug'])\n",
        "Board = Grid[CellState]\n",
        "\n",
        "Turn: namedtuple = namedtuple('Turn', ['new_direction', 'roll', 'rug', 'colour'])\n",
        "Transcript = List[Turn]"
      ],
      "execution_count": 3,
      "outputs": []
    },
    {
      "cell_type": "code",
      "metadata": {
        "id": "EmLUbhjVk2IA"
      },
      "source": [
        "class AssamTooFarError(Exception):\n",
        "    pass\n",
        "\n",
        "class AssamInWayError(Exception):\n",
        "    pass\n",
        "\n",
        "class OutOfBoardError(Exception):\n",
        "    pass\n",
        "\n",
        "class InvalidTurnError(Exception):\n",
        "    pass\n",
        "\n",
        "class RugAlreadyThereError(Exception):\n",
        "    pass\n",
        "\n",
        "class NotARugError(Exception):\n",
        "    pass\n",
        "\n",
        "class AboutTurnError(Exception):\n",
        "    pass\n",
        "\n",
        "class SizeNotOddError(Exception):\n",
        "    pass\n",
        "\n",
        "class InvalidRollError(Exception):\n",
        "    pass\n",
        "\n",
        "class CellNotConnectedError(Exception):\n",
        "    pass"
      ],
      "execution_count": 4,
      "outputs": []
    },
    {
      "cell_type": "code",
      "metadata": {
        "id": "EfRjI0Xy9Ygv"
      },
      "source": [
        "class MarrackechPlayer:\n",
        "    NUM_RUGS: int = 15\n",
        "    START_MONEY: int = 30\n",
        "\n",
        "    def __init__(self, player_colour: Colour, num_rugs = NUM_RUGS, start_money = START_MONEY):\n",
        "        self.rugs: list[Rug] = [Marrakech.NULL_RUG for round in range(num_rugs)]\n",
        "        self.money: int = start_money\n",
        "        self.colour = player_colour\n",
        "\n",
        "    def place_rug(self, board: Board, assam: Cell, target: Rug):\n",
        "        ____\n",
        "        \n"
      ],
      "execution_count": 5,
      "outputs": []
    },
    {
      "cell_type": "code",
      "metadata": {
        "id": "sBmUDhGY9YQa"
      },
      "source": [
        "class Marrakech:\n",
        "    SIZE: int = 7\n",
        "    START_ASSAM: Assam = Assam(cell = (3, 3), direction = Direction.UP)\n",
        "    NULL_CELL: Cell = (-1, -1)\n",
        "    NULL_RUG: Rug = (NULL_CELL, NULL_CELL)\n",
        "    NUM_PLAYERS: int = 2\n",
        "    COLOUR_MAP = {\n",
        "        Colour.RED: 'peachpuff',\n",
        "        Colour.BLUE: 'lightskyblue',\n",
        "        Colour.YELLOW: 'lemonchiffron',\n",
        "        Colour.GREEN : 'springgreen'\n",
        "    }\n",
        "    EDGE_MAP = {\n",
        "        Colour.RED: 'red',\n",
        "        Colour.BLUE: 'blue',\n",
        "        Colour.YELLOW: 'yellow',\n",
        "        Colour.GREEN : 'green'\n",
        "    }\n",
        "\n",
        "    def __init__(self, size: int = SIZE, start_assam: Assam = START_ASSAM, num_players: int = NUM_PLAYERS):\n",
        "        if not size % 2:\n",
        "            raise SizeNotOddError\n",
        "        else:\n",
        "            self.size: int = size\n",
        "            self.board: Board = [[CellState(colour = Colour.NONE, rug = Marrakech.NULL_RUG) for\n",
        "                                  row in range(self.size)] for col in range(self.size)]\n",
        "            self.start_assam: Assam = start_assam\n",
        "            self.assam: Assam = self.start_assam\n",
        "            self.num_players: int = num_players\n",
        "            self.fig, self.ax = plt.subplots()\n",
        "            plt.xlim([0, self.size])\n",
        "            plt.ylim([0, self.size])\n",
        "            plt.grid(True)\n",
        "            plt.gca().set_aspect(\"equal\")\n",
        "\n",
        "    def reset(self) -> None:\n",
        "        self.board = [[CellState(colour = Colour.NONE, rug = Marrakech.NULL_RUG) for\n",
        "                       row in range(self.size)] for col in range(self.size)]\n",
        "        self.assam = self.start_assam\n",
        "        self.fig, self.ax = plt.subplots()\n",
        "        plt.xlim([0, self.size])\n",
        "        plt.ylim([0, self.size])\n",
        "        plt.grid(True)\n",
        "        plt.gca().set_aspect(\"equal\")\n",
        "    \n",
        "    def get_state(self, cell: Cell) -> CellState:\n",
        "        col, row = cell\n",
        "        return self.board[col][row]\n",
        "\n",
        "    def is_empty(self, cell: Cell) -> bool:\n",
        "        return self.get_state(cell).colour == Colour.NONE\n",
        "\n",
        "    def distance(self, cell1: Cell, cell2: Cell = NULL_CELL) -> int:\n",
        "        if cell2 == Marrakech.NULL_CELL:\n",
        "            cell2 = self.assam.cell\n",
        "        col1, row1, col2, row2 = *cell1, *cell2\n",
        "        return np.abs(col1 - col2) + np.abs(row1 - row2)\n",
        "\n",
        "    def share_rug(self, cell1: Cell, cell2: Cell) -> bool:\n",
        "        if self.is_empty(cell1) or self.is_empty(cell2):\n",
        "            return False\n",
        "        else:\n",
        "            return set(self.get_state(cell1).rug) == set(self.get_state(cell2).rug)\n",
        "\n",
        "    def set_state(self, cell: Cell, colour: Colour, rug: Rug):\n",
        "        col, row = cell\n",
        "        self.board[col][row] = CellState(colour, rug)\n",
        "\n",
        "    def render_rug(self, rug: Rug, colour: Colour) -> None:\n",
        "        cell1, cell2 = rug\n",
        "        col1, row1, col2, row2 = *cell1, *cell2\n",
        "        anchor = (min(col1, col2), min(row1, row2))\n",
        "        rug_width = np.abs(col2 - col1) + 1\n",
        "        rug_height = np.abs(row2 - row1) + 1\n",
        "        rug_colour = Marrakech.COLOUR_MAP[colour]\n",
        "        rug_edge = Marrakech.EDGE_MAP[colour]\n",
        "        rug_patch = mpatches.Rectangle(anchor, width = rug_width, height = rug_height,\n",
        "                                       facecolor = rug_colour, edgecolor = rug_edge, linewidth = 3)\n",
        "        self.ax.add_patch(rug_patch)\n",
        "\n",
        "    def put_rug(self, rug: Rug, colour: Colour) -> None:\n",
        "        cell1, cell2 = rug\n",
        "        if not self.distance(cell1, cell2) == 1:\n",
        "            raise NotARugError\n",
        "        elif self.assam.cell in rug:\n",
        "            raise AssamInWayError\n",
        "        elif self.distance(cell1) + self.distance(cell2) > 3:\n",
        "            raise AssamTooFarError\n",
        "        elif self.share_rug(cell1, cell2):\n",
        "            raise RugAlreadyThereError\n",
        "        else:\n",
        "            self.set_state(cell1, colour, rug)\n",
        "            self.set_state(cell2, colour, rug)\n",
        "            self.render_rug(rug, colour)\n",
        "\n",
        "    def face_assam(self, new_direction: Direction) -> None:\n",
        "        if np.abs(self.assam.direction.value - new_direction.value) == 6:\n",
        "            raise AboutTurnError\n",
        "        else:\n",
        "            current_cell = self.assam.cell\n",
        "            self.assam = Assam(cell = current_cell, direction = new_direction)\n",
        "\n",
        "    def next_assam(self) -> Assam:\n",
        "        shift_map: Dict[Direction, Cell] = {\n",
        "            Direction.RIGHT: (1, 0),\n",
        "            Direction.DOWN: (0, -1),\n",
        "            Direction.LEFT: (-1, 0),\n",
        "            Direction.UP: (0, 1)\n",
        "        }\n",
        "        border_map: Dict[Cell, Tuple[Cell, Direction]] = {\n",
        "            (0, -1): ((0, 0), Direction.RIGHT),\n",
        "            (-1, 0): ((0, 0), Direction.UP),\n",
        "            (self.size - 1, self.size): ((self.size - 1, self.size - 1), Direction.LEFT),\n",
        "            (self.size, self.size - 1): ((self.size - 1, self.size - 1), Direction.DOWN)\n",
        "        }\n",
        "        for col in range(1, self.size):\n",
        "            if col % 2:\n",
        "                border_map[(col, self.size)] = ((col - 1, self.size - 1), Direction.DOWN)\n",
        "                border_map[(col - 1, self.size)] = ((col, self.size - 1), Direction.DOWN)\n",
        "            else:\n",
        "                border_map[(col, -1)] = ((col - 1, 0), Direction.UP)\n",
        "                border_map[(col - 1, -1)] = ((col, 0), Direction.UP)\n",
        "        for row in range(1, self.size):\n",
        "            if row % 2:\n",
        "                border_map[(self.size, row)] = ((self.size - 1, row - 1), Direction.LEFT)\n",
        "                border_map[(self.size, row - 1)] = ((self.size - 1, row), Direction.LEFT)\n",
        "            else:\n",
        "                border_map[(-1, row)] = ((0, row - 1), Direction.RIGHT)\n",
        "                border_map[(-1, row - 1)] = ((0, row), Direction.RIGHT)\n",
        "        next_cell = tuple(map(sum, zip(self.assam.cell, shift_map[self.assam.direction])))\n",
        "        col, row = next_cell\n",
        "        border = (-1, self.size)\n",
        "        if col in border or row in border:\n",
        "            new_cell, new_direction = border_map[next_cell]\n",
        "            return Assam(new_cell, new_direction)\n",
        "        else:\n",
        "            return Assam(next_cell, self.assam.direction)\n",
        "\n",
        "    def move_assam(self, roll: int) -> None:\n",
        "        if not roll in range(1, 5):\n",
        "            raise InvalidRollError\n",
        "        else:\n",
        "            for slipper in range(roll):\n",
        "                self.assam = self.next_assam()\n",
        "\n",
        "    def connected_helper(self, cell: Cell, marked: Set[Cell]) -> None:\n",
        "        col, row = cell\n",
        "        colour: Colour = self.get_state(cell).colour\n",
        "        neighbours = {(col - 1, row), (col + 1, row), (col, row - 1), (col, row + 1)}\n",
        "        for neighbour in neighbours:\n",
        "            ncol, nrow = neighbour\n",
        "            border = (-1, self.size)\n",
        "            if ncol in border or nrow in border:\n",
        "                neighbours.remove(neighbour)\n",
        "        for neighbour in neighbours:\n",
        "            if not neighbour in marked and self.get_state(neighbour).colour == colour:\n",
        "                marked.add(neighbour)\n",
        "                self.connected_helper(neighbour, marked)\n",
        "\n",
        "    def connected(self, cell: Cell) -> Set[Cell]:\n",
        "        if self.is_empty(cell):\n",
        "            raise CellNotConnectedError\n",
        "        else:\n",
        "            colour: Colour = self.get_state(cell).colour\n",
        "            marked: Set[Cell] = {cell}\n",
        "            self.connected_helper(cell, marked)\n",
        "            return marked\n",
        "\n",
        "    def penalty(self, cell: Cell) -> int:\n",
        "        return len(self.connected(cell))\n",
        "\n",
        "    def execute_turn(self, turn: Turn) -> None:\n",
        "        self.face_assam(turn.new_direction)\n",
        "        self.move_assam(turn.roll)\n",
        "        self.put_rug(turn.rug, turn.colour)\n",
        "\n",
        "    def render_assam(self) -> None:\n",
        "        col_correct = 0.03\n",
        "        col_center, row_center = 0.5 + col_correct, 0.5\n",
        "        face_offset = 0.13\n",
        "        face_map: Dict[Direction, Tuple(float, float, float, float)] = {\n",
        "            Direction.RIGHT: (col_center + face_offset, row_center, 300.0, 60.0),\n",
        "            Direction.DOWN: (col_center, row_center - face_offset, 210.0, 330.0),\n",
        "            Direction.LEFT: (col_center - face_offset, row_center, 120.0, 240.0),\n",
        "            Direction.UP: (col_center, row_center + face_offset, 150.0, 30.0)\n",
        "        }\n",
        "        col, row = self.assam.cell\n",
        "        assam_patch = mpatches.Circle((col + col_center, row + row_center), radius = 0.2, color = 'black')\n",
        "        self.ax.add_patch(assam_patch)\n",
        "        col_offset, row_offset, start_angle, end_angle = face_map[self.assam.direction]\n",
        "        face_patch = mpatches.Arc((col + col_offset, row + row_offset), width = 0.5, height = 0.5,\n",
        "                                  theta1 = start_angle, theta2 = end_angle)\n",
        "        self.ax.add_patch(face_patch)\n",
        "\n",
        "    def playback(self, transcript: Transcript) -> None:\n",
        "        for turn in transcript:\n",
        "            self.execute_turn(turn)\n",
        "        self.render_assam()\n",
        "\n",
        "    def step_playback(self, transcript: Transcript) -> None:\n",
        "        for stop in range(1, len(transcript)):\n",
        "            self.playback(transcript[:stop])\n",
        "            self.reset()\n",
        "        self.playback(transcript)\n",
        "\n"
      ],
      "execution_count": 105,
      "outputs": []
    },
    {
      "cell_type": "code",
      "metadata": {
        "colab": {
          "base_uri": "https://localhost:8080/"
        },
        "id": "MI7JcVQDwGX5",
        "outputId": "6df94dba-5224-496d-8de0-003e72e330d4"
      },
      "source": [
        "# test\n",
        "\n",
        "mm = Marrakech()\n",
        "rug = ((3, 4), (3, 5))\n",
        "mm.put_rug(rug, Colour.BLUE)\n",
        "rug2 = ((3, 4), (4, 4))\n",
        "mm.put_rug(rug2, Colour.RED)\n",
        "mm.move_assam(4)\n",
        "print(mm.assam)\n",
        "mm.face_assam(Direction.RIGHT)\n",
        "mm.move_assam(4)\n",
        "print(mm.assam)\n",
        "mm.face_assam(Direction.UP)\n",
        "mm.move_assam(4)\n",
        "print(mm.assam)\n",
        "mm.face_assam(Direction.DOWN)\n",
        "mm.move_assam(4)\n",
        "print(mm.assam)\n",
        "mm.face_assam(Direction.LEFT)\n",
        "mm.move_assam(4)\n",
        "print(mm.assam)\n",
        "mm.face_assam(Direction.DOWN)\n",
        "mm.move_assam(4)\n",
        "print(mm.assam)\n",
        "mm.face_assam(Direction.DOWN)\n",
        "mm.move_assam(4)\n",
        "print(mm.assam)\n",
        "mm.face_assam(Direction.UP)\n",
        "mm.move_assam(1)\n",
        "print(mm.assam)\n",
        "mm.face_assam(Direction.LEFT)\n",
        "mm.move_assam(2)\n",
        "print(mm.assam)\n",
        "mm.face_assam(Direction.DOWN)\n",
        "mm.move_assam(3)\n",
        "print(mm.assam)\n",
        "mm.face_assam(Direction.LEFT)\n",
        "mm.move_assam(4)\n",
        "print(mm.assam)"
      ],
      "execution_count": 7,
      "outputs": [
        {
          "output_type": "stream",
          "text": [
            "Assam(cell=(2, 6), direction=<Direction.DOWN: 6>)\n",
            "Assam(cell=(6, 6), direction=<Direction.RIGHT: 3>)\n",
            "Assam(cell=(3, 6), direction=<Direction.LEFT: 9>)\n",
            "Assam(cell=(3, 2), direction=<Direction.DOWN: 6>)\n",
            "Assam(cell=(0, 1), direction=<Direction.RIGHT: 3>)\n",
            "Assam(cell=(2, 0), direction=<Direction.RIGHT: 3>)\n",
            "Assam(cell=(1, 3), direction=<Direction.UP: 12>)\n",
            "Assam(cell=(1, 4), direction=<Direction.UP: 12>)\n",
            "Assam(cell=(0, 3), direction=<Direction.RIGHT: 3>)\n",
            "Assam(cell=(0, 0), direction=<Direction.DOWN: 6>)\n",
            "Assam(cell=(0, 3), direction=<Direction.UP: 12>)\n"
          ],
          "name": "stdout"
        }
      ]
    },
    {
      "cell_type": "code",
      "metadata": {
        "colab": {
          "base_uri": "https://localhost:8080/",
          "height": 1000
        },
        "id": "bP5xw1N9t9sM",
        "outputId": "ca8b8a62-adc8-4cdc-edc8-627b24b9bb46"
      },
      "source": [
        "mm = Marrakech()\n",
        "cr = Colour.RED\n",
        "cb = Colour.BLUE\n",
        "du = Direction.UP\n",
        "dd = Direction.DOWN\n",
        "dl = Direction.LEFT\n",
        "dr = Direction.RIGHT\n",
        "t1 = Turn(dl, 3, ((1,2), (1,3)), cr)\n",
        "t2 = Turn(dl, 2, ((1,3), (2,3)), cb)\n",
        "t3 = Turn(dr, 1, ((2,2), (2,3)), cr)\n",
        "t4 = Turn(dd, 3, ((2,0), (3,0)), cb)\n",
        "t5 = Turn(dr, 2, ((3,2), (4,2)), cr)\n",
        "tt = [t1, t2, t3, t4, t5]\n",
        "mm.step_playback(tt)\n",
        "#print(mm.penalty((2,2)), mm.penalty((1,3)))"
      ],
      "execution_count": 106,
      "outputs": [
        {
          "output_type": "display_data",
          "data": {
            "image/png": "[encoded data removed]",
            "text/plain": [
              "<Figure size 432x288 with 1 Axes>"
            ]
          },
          "metadata": {
            "tags": [],
            "needs_background": "light"
          }
        },
        {
          "output_type": "display_data",
          "data": {
            "image/png": "[encoded data removed]",
            "text/plain": [
              "<Figure size 432x288 with 1 Axes>"
            ]
          },
          "metadata": {
            "tags": [],
            "needs_background": "light"
          }
        },
        {
          "output_type": "display_data",
          "data": {
            "image/png": "[encoded data removed]",
            "text/plain": [
              "<Figure size 432x288 with 1 Axes>"
            ]
          },
          "metadata": {
            "tags": [],
            "needs_background": "light"
          }
        },
        {
          "output_type": "display_data",
          "data": {
            "image/png": "[encoded data removed]",
            "text/plain": [
              "<Figure size 432x288 with 1 Axes>"
            ]
          },
          "metadata": {
            "tags": [],
            "needs_background": "light"
          }
        },
        {
          "output_type": "display_data",
          "data": {
            "image/png": "[encoded data removed]",
            "text/plain": [
              "<Figure size 432x288 with 1 Axes>"
            ]
          },
          "metadata": {
            "tags": [],
            "needs_background": "light"
          }
        }
      ]
    },
    {
      "cell_type": "code",
      "metadata": {
        "colab": {
          "base_uri": "https://localhost:8080/",
          "height": 287
        },
        "id": "q6SaXcbAvElm",
        "outputId": "c566ee9a-3599-42f7-be5f-f8a118fe4945"
      },
      "source": [
        "fig, ax = plt.subplots()\n",
        "plt.xlim([0, 7])\n",
        "plt.ylim([0, 7])\n",
        "plt.grid(True)\n",
        "rug1 = mpatches.Rectangle((1, 1), width=2, height=1, facecolor='lightblue', edgecolor='blue', linewidth=4)\n",
        "ax.add_patch(rug1)\n",
        "rug2 = mpatches.Rectangle((1, 1), width=1, height=2, facecolor='pink', edgecolor='red', linewidth=4)\n",
        "ax.add_patch(rug2)\n",
        "\n"
      ],
      "execution_count": 54,
      "outputs": [
        {
          "output_type": "execute_result",
          "data": {
            "text/plain": [
              "<matplotlib.patches.Rectangle at 0x7f054a62de10>"
            ]
          },
          "metadata": {
            "tags": []
          },
          "execution_count": 54
        },
        {
          "output_type": "display_data",
          "data": {
            "image/png": "[encoded data removed]",
            "text/plain": [
              "<Figure size 432x288 with 1 Axes>"
            ]
          },
          "metadata": {
            "tags": [],
            "needs_background": "light"
          }
        }
      ]
    }
  ]
}